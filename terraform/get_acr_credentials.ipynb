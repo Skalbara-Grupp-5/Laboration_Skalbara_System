{
 "cells": [
  {
   "cell_type": "code",
   "execution_count": null,
   "metadata": {},
   "outputs": [],
   "source": [
    "from get_acr_credentials import get_acr_credentials\n",
    "\n",
    "# Replace 'APP_NAME' with your actual Azure Container Registry name\n",
    "APP_NAME = \"your-acr-name\"\n",
    "\n",
    "login_server, username, password, storage_account_name, storage_access_key = get_acr_credentials(APP_NAME)\n",
    "\n",
    "print(f\"CONTAINER_REGISTRY_LOGIN_SERVER: {login_server}\")\n",
    "print(f\"CONTAINER_REGISTRY_USERNAME: {username}\")\n",
    "print(f\"CONTAINER_REGISTRY_PASSWORD: {password}\")\n",
    "print(f\"STORAGE_ACCOUNT_NAME: {storage_account_name}\")\n",
    "print(f\"STORAGE_ACCESS_KEY: {storage_access_key}\")\n",
    "\n"
   ]
  }
 ],
 "metadata": {
  "language_info": {
   "name": "python"
  }
 },
 "nbformat": 4,
 "nbformat_minor": 2
}
